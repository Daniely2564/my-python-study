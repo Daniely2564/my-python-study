{
 "cells": [
  {
   "cell_type": "markdown",
   "metadata": {},
   "source": [
    "# Debugging\n",
    "**pdb**(python debugger) implements an interactive debugging environment for Python programs. It includes features to let you pause your program, look at the vlaues of variables, and watch program execution step-by-step, so you can understand what your program actually does and find bugs in the logic."
   ]
  },
  {
   "cell_type": "markdown",
   "metadata": {},
   "source": [
    "## Starting the Debugger\n",
    "<br>\n",
    "#### From the Command Line"
   ]
  },
  {
   "cell_type": "code",
   "execution_count": 1,
   "metadata": {},
   "outputs": [
    {
     "name": "stdout",
     "output_type": "stream",
     "text": [
      "0\n",
      "1\n",
      "2\n",
      "3\n",
      "4\n"
     ]
    }
   ],
   "source": [
    "def seq(n):\n",
    "    for i in range(n):\n",
    "        print(i)\n",
    "    return\n",
    "\n",
    "seq(5)"
   ]
  },
  {
   "cell_type": "markdown",
   "metadata": {},
   "source": [
    "#### From Within Your Program"
   ]
  },
  {
   "cell_type": "code",
   "execution_count": null,
   "metadata": {},
   "outputs": [
    {
     "name": "stdout",
     "output_type": "stream",
     "text": [
      "> <ipython-input-1-129af10826f1>(7)seq()\n",
      "-> print(i)\n",
      "(Pdb) list\n",
      "  2  \t\n",
      "  3  \t# interactive debugging\n",
      "  4  \tdef seq(n):\n",
      "  5  \t    for i in range(n):\n",
      "  6  \t        pdb.set_trace() # breakpoint\n",
      "  7  ->\t        print(i)\n",
      "  8  \t    return\n",
      "  9  \t\n",
      " 10  \tseq(5)\n",
      "[EOF]\n",
      "(Pdb) p i\n",
      "0\n",
      "(Pdb) p n\n",
      "5\n",
      "(Pdb) p locals()\n",
      "{'n': 5, 'i': 0}\n",
      "(Pdb) h\n",
      "\n",
      "Documented commands (type help <topic>):\n",
      "========================================\n",
      "EOF    c          d        h         list      q        rv       undisplay\n",
      "a      cl         debug    help      ll        quit     s        unt      \n",
      "alias  clear      disable  ignore    longlist  r        source   until    \n",
      "args   commands   display  interact  n         restart  step     up       \n",
      "b      condition  down     j         next      return   tbreak   w        \n",
      "break  cont       enable   jump      p         retval   u        whatis   \n",
      "bt     continue   exit     l         pp        run      unalias  where    \n",
      "\n",
      "Miscellaneous help topics:\n",
      "==========================\n",
      "exec  pdb\n",
      "\n",
      "(Pdb) continue\n",
      "0\n",
      "> <ipython-input-1-129af10826f1>(6)seq()\n",
      "-> pdb.set_trace() # breakpoint\n",
      "(Pdb) p locals()\n",
      "{'n': 5, 'i': 1}\n",
      "(Pdb) p globals()\n",
      "{'__name__': '__main__', '__doc__': 'Automatically created module for IPython interactive environment', '__package__': None, '__loader__': None, '__spec__': None, '__builtin__': <module 'builtins' (built-in)>, '__builtins__': <module 'builtins' (built-in)>, '_ih': ['', 'import pdb\\n\\n# interactive debugging\\ndef seq(n):\\n    for i in range(n):\\n        pdb.set_trace() # breakpoint\\n        print(i)\\n    return\\n\\nseq(5)'], '_oh': {}, '_dh': ['C:\\\\Users\\\\Daniel Yoo\\\\Desktop\\\\Study\\\\Python\\\\Basic'], 'In': ['', 'import pdb\\n\\n# interactive debugging\\ndef seq(n):\\n    for i in range(n):\\n        pdb.set_trace() # breakpoint\\n        print(i)\\n    return\\n\\nseq(5)'], 'Out': {}, 'get_ipython': <bound method InteractiveShell.get_ipython of <ipykernel.zmqshell.ZMQInteractiveShell object at 0x00000209D772DFC8>>, 'exit': <IPython.core.autocall.ZMQExitAutocall object at 0x00000209D7796988>, 'quit': <IPython.core.autocall.ZMQExitAutocall object at 0x00000209D7796988>, '_': '', '__': '', '___': '', '_i': '', '_ii': '', '_iii': '', '_i1': 'import pdb\\n\\n# interactive debugging\\ndef seq(n):\\n    for i in range(n):\\n        pdb.set_trace() # breakpoint\\n        print(i)\\n    return\\n\\nseq(5)', 'pdb': <module 'pdb' from 'C:\\\\Users\\\\Daniel Yoo\\\\AppData\\\\Local\\\\Continuum\\\\anaconda3\\\\lib\\\\pdb.py'>, 'seq': <function seq at 0x00000209D789B828>}\n"
     ]
    }
   ],
   "source": [
    "import pdb\n",
    "\n",
    "# interactive debugging\n",
    "def seq(n):\n",
    "    for i in range(n):\n",
    "        pdb.set_trace() # breakpoint\n",
    "        print(i)\n",
    "    return\n",
    "\n",
    "seq(5)"
   ]
  },
  {
   "cell_type": "markdown",
   "metadata": {},
   "source": [
    "c : continue <br>\n",
    "q : quit <br>\n",
    "h : help <br>\n",
    "list <br>\n",
    "p : print <br>\n",
    "p locals() <br>\n",
    "p globals() <br>"
   ]
  },
  {
   "cell_type": "markdown",
   "metadata": {},
   "source": [
    "list : Tells where we are at Exactly\n",
    "p (local_variable) : print the current value \n",
    "p locals() : print all the local variables\n",
    "continue : goes to the next breakpoint."
   ]
  }
 ],
 "metadata": {
  "kernelspec": {
   "display_name": "Python 3",
   "language": "python",
   "name": "python3"
  },
  "language_info": {
   "codemirror_mode": {
    "name": "ipython",
    "version": 3
   },
   "file_extension": ".py",
   "mimetype": "text/x-python",
   "name": "python",
   "nbconvert_exporter": "python",
   "pygments_lexer": "ipython3",
   "version": "3.7.4"
  }
 },
 "nbformat": 4,
 "nbformat_minor": 2
}
