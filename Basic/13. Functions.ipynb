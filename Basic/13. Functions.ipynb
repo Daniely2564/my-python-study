{
 "cells": [
  {
   "cell_type": "markdown",
   "metadata": {},
   "source": [
    "## Python Functions\n",
    "Function is a group of related statements that perform a specific task.\n",
    "\n",
    "Functions help break our program into smaller and modular chunks. As our program grows larger and larger, functions make it more organized and manageable.\n",
    "\n",
    "It avoids repetition and makes code reusable.\n",
    "\n",
    "### Syntax\n",
    "\n",
    "    def function_name(parameters):\n",
    "        \"\"\"\n",
    "        Doc String\n",
    "        \"\"\"\n",
    "        \n",
    "        Statement(s)\n",
    "1. keyword \"def\" makes the start of function header\n",
    "2. Parameters (arguments) through which we pass values to a function. These are optional.\n",
    "3. A colon(:) to mark the end of function header\n",
    "4. Doc string describe what the function does. This is totally optional.\n",
    "5. \"return\" statement to return a value from the function. This is optional.\n",
    "\n",
    "### Example:"
   ]
  },
  {
   "cell_type": "code",
   "execution_count": 1,
   "metadata": {},
   "outputs": [],
   "source": [
    "def print_name(name):\n",
    "    \"\"\"\n",
    "    This function prints the name\n",
    "    \"\"\"\n",
    "    print(\"Hello \" + str(name))"
   ]
  },
  {
   "cell_type": "markdown",
   "metadata": {},
   "source": [
    "### Function Call\n",
    "\n",
    "Once we have defined a function, we can call it from anywhere"
   ]
  },
  {
   "cell_type": "code",
   "execution_count": 2,
   "metadata": {},
   "outputs": [
    {
     "name": "stdout",
     "output_type": "stream",
     "text": [
      "Hello Dannnny!!\n"
     ]
    }
   ],
   "source": [
    "print_name('Dannnny!!')"
   ]
  },
  {
   "cell_type": "markdown",
   "metadata": {},
   "source": [
    "### Doc String\n",
    "\n",
    "The first string after the function heaer is called the docstring and is short for documentation string.\n",
    "\n",
    "Although optional, documentation is a good programming practice, always document your code.\n",
    "\n",
    "Doc string will be written in triple quotes so that docstring can extend up to multiple lines"
   ]
  },
  {
   "cell_type": "code",
   "execution_count": 3,
   "metadata": {},
   "outputs": [
    {
     "name": "stdout",
     "output_type": "stream",
     "text": [
      "\n",
      "    This function prints the name\n",
      "    \n"
     ]
    }
   ],
   "source": [
    "print(print_name.__doc__)"
   ]
  },
  {
   "cell_type": "markdown",
   "metadata": {},
   "source": [
    "## return Statement\n",
    "\n",
    "The return statement is used to exit a function and go back to the place from where it was called.\n",
    "\n",
    "Syntax:\n",
    "    return {expression}\n",
    "    \n",
    " - return statement can contai an expression which gets evaluated and the value is returned\n",
    " - if there is no expression in the statement or the return statment itself is not present insdie a function, then the function will return None Object"
   ]
  },
  {
   "cell_type": "code",
   "execution_count": 4,
   "metadata": {},
   "outputs": [],
   "source": [
    "def get_sum(lst):\n",
    "    \"\"\"\n",
    "    This function returns the sum of all elements in the list\n",
    "    \"\"\"\n",
    "    # initializing sum\n",
    "    _sum = 0\n",
    "    \n",
    "    # iterating over the list\n",
    "    for num in lst:\n",
    "        _sum += num\n",
    "    return _sum"
   ]
  },
  {
   "cell_type": "code",
   "execution_count": 5,
   "metadata": {},
   "outputs": [
    {
     "name": "stdout",
     "output_type": "stream",
     "text": [
      "15\n"
     ]
    }
   ],
   "source": [
    "s = get_sum([1,2,3,4,5])\n",
    "print(s)"
   ]
  },
  {
   "cell_type": "code",
   "execution_count": 6,
   "metadata": {},
   "outputs": [
    {
     "name": "stdout",
     "output_type": "stream",
     "text": [
      "\n",
      "    This function returns the sum of all elements in the list\n",
      "    \n"
     ]
    }
   ],
   "source": [
    "# printing the document string\n",
    "print(get_sum.__doc__)"
   ]
  },
  {
   "cell_type": "markdown",
   "metadata": {},
   "source": [
    "### Scope and Life Time of Variables\n",
    " - Scope of a variable is the portion of a program where the variable is recognized\n",
    " - variables defined inside a function is not visible from outside. Hence, they have a local scope.\n",
    " - Lifetime of a variable is the period throughout which the variable exits in the momery.\n",
    " - The lifetime of variable inside a function is as long as the function executes.\n",
    " - Variables are destroyed once we return from the function.\n",
    " \n",
    "#### Example :"
   ]
  },
  {
   "cell_type": "code",
   "execution_count": 8,
   "metadata": {},
   "outputs": [
    {
     "name": "stdout",
     "output_type": "stream",
     "text": [
      "This is local variable\n",
      "This is a global variable\n",
      "This is a global variable\n"
     ]
    },
    {
     "ename": "NameError",
     "evalue": "name 'local_var' is not defined",
     "output_type": "error",
     "traceback": [
      "\u001b[1;31m---------------------------------------------------------------------------\u001b[0m",
      "\u001b[1;31mNameError\u001b[0m                                 Traceback (most recent call last)",
      "\u001b[1;32m<ipython-input-8-3c1c433b1f8a>\u001b[0m in \u001b[0;36m<module>\u001b[1;34m\u001b[0m\n\u001b[0;32m     16\u001b[0m \u001b[1;33m\u001b[0m\u001b[0m\n\u001b[0;32m     17\u001b[0m \u001b[1;31m#print local variable Local_var\u001b[0m\u001b[1;33m\u001b[0m\u001b[1;33m\u001b[0m\u001b[1;33m\u001b[0m\u001b[0m\n\u001b[1;32m---> 18\u001b[1;33m \u001b[0mprint\u001b[0m\u001b[1;33m(\u001b[0m\u001b[0mlocal_var\u001b[0m\u001b[1;33m)\u001b[0m\u001b[1;33m\u001b[0m\u001b[1;33m\u001b[0m\u001b[0m\n\u001b[0m",
      "\u001b[1;31mNameError\u001b[0m: name 'local_var' is not defined"
     ]
    }
   ],
   "source": [
    "global_var = \"This is a global variable\"\n",
    "\n",
    "def test_life_time():\n",
    "    \"\"\"\n",
    "    This function tests the life time of a variable\n",
    "    \"\"\"\n",
    "    local_var = \"This is local variable\"\n",
    "    print(local_var)\n",
    "    print(global_var)\n",
    "    \n",
    "#calling function\n",
    "test_life_time()\n",
    "\n",
    "#print global variable global_var\n",
    "print(global_var)\n",
    "\n",
    "#print local variable Local_var\n",
    "print(local_var)"
   ]
  },
  {
   "cell_type": "markdown",
   "metadata": {},
   "source": [
    "### Python program to print Highest Common Factor (HCF) of two numbers"
   ]
  },
  {
   "cell_type": "code",
   "execution_count": null,
   "metadata": {},
   "outputs": [],
   "source": [
    "def computeHCF(a,b):\n",
    "    \"\"\"\n",
    "    Computing HCF of two numbers\n",
    "    \"\"\"\n",
    "    smaller = b if a > b else a\n",
    "    \n",
    "    hcf = 1\n",
    "    "
   ]
  }
 ],
 "metadata": {
  "kernelspec": {
   "display_name": "Python 3",
   "language": "python",
   "name": "python3"
  },
  "language_info": {
   "codemirror_mode": {
    "name": "ipython",
    "version": 3
   },
   "file_extension": ".py",
   "mimetype": "text/x-python",
   "name": "python",
   "nbconvert_exporter": "python",
   "pygments_lexer": "ipython3",
   "version": "3.7.4"
  }
 },
 "nbformat": 4,
 "nbformat_minor": 2
}
