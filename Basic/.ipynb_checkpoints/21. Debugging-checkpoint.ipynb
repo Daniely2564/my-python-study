{
 "cells": [
  {
   "cell_type": "markdown",
   "metadata": {},
   "source": [
    "# Debugging\n",
    "**pdb**(python debugger) implements an interactive debugging environment for Python programs. It includes features to let you pause your program, look at the vlaues of variables, and watch program execution step-by-step, so you can understand what your program actually does and find bugs in the logic."
   ]
  },
  {
   "cell_type": "markdown",
   "metadata": {},
   "source": [
    "## Starting the Debugger\n",
    "<br>\n",
    "#### From the Command Line"
   ]
  },
  {
   "cell_type": "code",
   "execution_count": 1,
   "metadata": {},
   "outputs": [
    {
     "name": "stdout",
     "output_type": "stream",
     "text": [
      "0\n",
      "1\n",
      "2\n",
      "3\n",
      "4\n"
     ]
    }
   ],
   "source": [
    "def seq(n):\n",
    "    for i in range(n):\n",
    "        print(i)\n",
    "    return\n",
    "\n",
    "seq(5)"
   ]
  },
  {
   "cell_type": "markdown",
   "metadata": {},
   "source": [
    "#### From Within Your Program"
   ]
  },
  {
   "cell_type": "code",
   "execution_count": null,
   "metadata": {},
   "outputs": [],
   "source": [
    "import pdb\n",
    "\n",
    "# interactive debugging\n",
    "def seq(n):\n",
    "    for i in range(n):\n",
    "        pdb.set_trace() # breakpoint\n",
    "        print(i)\n",
    "    return\n",
    "\n",
    "seq(5)"
   ]
  },
  {
   "cell_type": "code",
   "execution_count": null,
   "metadata": {},
   "outputs": [],
   "source": []
  },
  {
   "cell_type": "markdown",
   "metadata": {},
   "source": [
    "c : continue <br>\n",
    "q : quit <br>\n",
    "h : help <br>\n",
    "list <br>\n",
    "p : print <br>\n",
    "p locals() <br>\n",
    "p globals() <br>"
   ]
  },
  {
   "cell_type": "code",
   "execution_count": null,
   "metadata": {},
   "outputs": [],
   "source": []
  }
 ],
 "metadata": {
  "kernelspec": {
   "display_name": "Python 3",
   "language": "python",
   "name": "python3"
  },
  "language_info": {
   "codemirror_mode": {
    "name": "ipython",
    "version": 3
   },
   "file_extension": ".py",
   "mimetype": "text/x-python",
   "name": "python",
   "nbconvert_exporter": "python",
   "pygments_lexer": "ipython3",
   "version": "3.7.4"
  }
 },
 "nbformat": 4,
 "nbformat_minor": 2
}
